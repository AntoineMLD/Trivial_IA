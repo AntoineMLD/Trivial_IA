{
 "cells": [
  {
   "cell_type": "code",
   "execution_count": 14,
   "metadata": {},
   "outputs": [],
   "source": [
    "import networkx as nx\n",
    "import matplotlib.pyplot as plt\n",
    "\n",
    "\n",
    "#Créer le graphique vide\n",
    "G = nx.Graph()\n",
    "\n",
    "# Ajoute les 73 sommets, de 0 à 72\n",
    "for i in range(73):\n",
    "    G.add_node(i)\n",
    "\n",
    "# Relie les 42 cases entres elles consécutivement\n",
    "for i in range(42):\n",
    "    G.add_edge(i, (i+1)%42)\n",
    "    \n",
    "\n",
    "# Ajout des branches du centres aux cases 7, 14, 21, 28, 35 et 42\n",
    "for i in [7, 14, 21, 28, 35, 42]:\n",
    "    for j in range(5):\n",
    "        G.add_edge(i, 43+j) \n",
    "G.add_edge(46, 72)\n",
    "\n",
    "# Connecte les branches et la case centrale 72\n",
    "for i in [57, 67, 47, 56, 66]:\n",
    "    G.add_edge(i, 72)\n",
    "\n",
    "# Connecte les arrêtes des branches au cercle\n",
    "G.add_edge(7, 61)\n",
    "G.add_edge(14, 71)\n",
    "G.add_edge(21, 51)\n",
    "G.add_edge(28, 52)\n",
    "G.add_edge(35, 62)\n",
    "\n"
   ]
  },
  {
   "cell_type": "code",
   "execution_count": null,
   "metadata": {},
   "outputs": [],
   "source": []
  }
 ],
 "metadata": {
  "kernelspec": {
   "display_name": "venv",
   "language": "python",
   "name": "python3"
  },
  "language_info": {
   "codemirror_mode": {
    "name": "ipython",
    "version": 3
   },
   "file_extension": ".py",
   "mimetype": "text/x-python",
   "name": "python",
   "nbconvert_exporter": "python",
   "pygments_lexer": "ipython3",
   "version": "3.10.12"
  }
 },
 "nbformat": 4,
 "nbformat_minor": 2
}
