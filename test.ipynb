{
 "cells": [
  {
   "cell_type": "code",
   "execution_count": 16,
   "metadata": {},
   "outputs": [],
   "source": [
    "import random\n",
    "\n",
    "class Player:\n",
    "    def __init__(self):\n",
    "        self.name = \"\"\n",
    "        self.score = 0\n",
    "        self.position = 0\n",
    "        self.correct_answers_by_theme = {}  # Dictionnaire pour stocker le score par thème\n",
    "\n",
    "    def set_name(self):\n",
    "        self.name = input(\"Entrez votre nom de joueur : \")\n",
    "        \n",
    "        \n",
    "\n",
    "    def deplacement(self, steps):\n",
    "        self.position += steps\n",
    "\n",
    "    def lancer_de(self):\n",
    "        result = random.randint(1,6)\n",
    "\n",
    "\n",
    "        self.deplacement(result)\n",
    "\n",
    "        direction = input(f\"{self.name}, voulez-vous vous déplacer vers la gauche (g) ou vers la droite (d) ? \").lower()\n",
    "        if direction == 'g':\n",
    "            self.position -= 1\n",
    "        elif direction == 'd':\n",
    "            self.position += 1\n",
    "        else:\n",
    "            print(\"Choix invalide. Veuillez tapez g ou d.\")\n",
    "\n",
    "\n",
    "\n",
    "    def poser_question(self, gestion_bdd):\n",
    "        themes_disponibles = [\n",
    "            \"Recherche d'emploi et recrutement\",\n",
    "            \"Ligne de commande Terminal Linux\",\n",
    "            \"Git_Github\",\n",
    "            \"Python\",\n",
    "            \"Actualité IA\",\n",
    "            \"SQL\"\n",
    "        ]\n",
    "\n",
    "    # Afficher les thèmes disponibles\n",
    "        print(\"Sélectionnez un thème en entrant le numéro correspondant :\")\n",
    "        for i, theme in enumerate(themes_disponibles, 1):\n",
    "            print(f\"{i}. {theme}\")\n",
    "\n",
    "    # Demander à l'utilisateur de choisir un thème\n",
    "        choix_theme = int(input(\"Votre choix : \"))\n",
    "\n",
    "    # Vérifier si le choix est valide\n",
    "        if 1 <= choix_theme <= len(themes_disponibles):\n",
    "            theme_selectionne = themes_disponibles[choix_theme - 1]\n",
    "            question = gestion_bdd.obtenir_question(theme_selectionne)\n",
    "        \n",
    "    \n",
    "\n",
    "        if question:\n",
    "            print(f\"\\nBienvenue, {self.name}!\")\n",
    "            question.afficher_question()\n",
    "\n",
    "            choix = int(input(\"Entrez le numéro de votre réponse (1, 2, 3 ou 4): \"))\n",
    "\n",
    "            if question.verifier_reponse(choix):\n",
    "                print(\"Bonne réponse!\")\n",
    "            \n",
    "            else:\n",
    "                print(\"Mauvaise réponse.\")\n",
    "        else:\n",
    "            print(\"Erreur: Aucune question trouvée.\")\n",
    "\n",
    "\n",
    "\n",
    "\n",
    "        \n",
    "\n",
    "        # options = [\"1.réponse1 \", \"2.réponse2 \", \"3.réponse3 \"]\n",
    "\n",
    "        # print(\"Options :\")\n",
    "        # for option in options:\n",
    "        #     print(option)\n",
    "\n",
    "        # while True:\n",
    "        #     choix = input(\"Votre réponse (1, 2, ou 3) : \")\n",
    "        #     if choix == '1':\n",
    "        #         print(f\"Bonne réponse {self.name}.\")\n",
    "        #         # Mise à jour des bonnes réponses par thème\n",
    "        #         if theme not in self.correct_answers_by_theme:\n",
    "        #             self.correct_answers_by_theme[theme] = {'score': 1}  # Initialiser le compteur pour ce thème\n",
    "        #         else:\n",
    "        #             self.correct_answers_by_theme[theme]['score'] += 1\n",
    "        #         break  # Sortir de la boucle une fois la réponse correcte donnée\n",
    "        #     elif choix in ('2', '3'):\n",
    "        #         print(f\"Mauvaise réponse. {self.name} n'a pas gagné.\")\n",
    "        #         break  # Sortir de la boucle une fois la réponse incorrecte donnée\n",
    "        #     else:\n",
    "        #         print(\"Choix invalide. Veuillez choisir parmi les options proposées.\")\n",
    "\n",
    "        #     # Mis à jour du score total\n",
    "        # self.total_score += 1\n"
   ]
  },
  {
   "cell_type": "code",
   "execution_count": 17,
   "metadata": {},
   "outputs": [],
   "source": [
    "\n",
    "import sqlite3\n",
    "import random\n",
    "\n",
    "class GestionBDD:\n",
    "    def __init__(self, nom_base_de_donnees):\n",
    "        self.connexion = sqlite3.connect(nom_base_de_donnees)\n",
    "        self.curseur = self.connexion.cursor()\n",
    "        self.questions_utilisees = set () # Utilise un ensemble pour stocker les ID des questions déjà utilisées\n",
    "\n",
    "    def obtenir_question(self, theme):\n",
    "        # Sélection d'une question aléatoire depuis la base de données\n",
    "        self.curseur.execute(\"SELECT * FROM questions WHERE theme = ? ORDER BY RANDOM() LIMIT 1\", (theme,))\n",
    "        row = self.curseur.fetchone()\n",
    "\n",
    "        if row:\n",
    "            question_id = row[0]\n",
    "            # Vérifier si la question a déjà été utilisée\n",
    "            while question_id in self.questions_utilisees:\n",
    "                self.curseur.execute(\"SELECT * FROM questions WHERE theme = ? ORDER BY RANDOM() LIMIT 1\", (theme,))\n",
    "                row = self.curseur.fetchone()\n",
    "                question_id = row[0]\n",
    "\n",
    "            # Ajouter l'ID de la question à l'ensemble des questions utilisées\n",
    "            self.questions_utilisees.add(question_id)\n",
    "\n",
    "            question = Question(row[0], row[1], row[2], row[3], row[4], row[5], row[6], row[7])\n",
    "            return question\n",
    "        else:\n",
    "            return None\n",
    "\n",
    "    def fermer_connexion(self):\n",
    "        self.connexion.close()\n",
    "\n",
    "class Question:\n",
    "    def __init__(self, question_id, theme, question, option1, option2, option3, option4, answer):\n",
    "        self.question_id = question_id\n",
    "        self.theme = theme\n",
    "        self.question = question\n",
    "        self.options = [option1, option2, option3, option4]\n",
    "        self.answer = answer\n",
    "\n",
    "    # def afficher_question(self):\n",
    "    #     print(f\"Thème: {self.theme}\")\n",
    "    #     print(f\"Question: {self.question}\")\n",
    "\n",
    "    #     for i, option in enumerate(self.options, start=1):\n",
    "    #         print(f\"{i}. {option}\") \n",
    "       \n",
    "\n",
    "    def verifier_reponse(self, choix):\n",
    "        \n",
    "        return self.options[choix - 1] == self.answer"
   ]
  },
  {
   "cell_type": "code",
   "execution_count": 18,
   "metadata": {},
   "outputs": [
    {
     "name": "stdout",
     "output_type": "stream",
     "text": [
      "Sélectionnez un thème en entrant le numéro correspondant :\n",
      "1. Recherche d'emploi et recrutement\n",
      "2. Ligne de commande Terminal Linux\n",
      "3. Git_Github\n",
      "4. Python\n",
      "5. Actualité IA\n",
      "6. SQL\n",
      "\n",
      "Bienvenue, farid!\n",
      "Thème: Git_Github\n",
      "Question: Quelle commande Git est utilisée pour afficher les modifications non validées dans votre copie de travail?\n",
      "1. git diff\n",
      "2. git status\n",
      "3. git show\n",
      "4. git changes\n",
      "Mauvaise réponse.\n"
     ]
    },
    {
     "data": {
      "text/plain": [
       "{84}"
      ]
     },
     "execution_count": 18,
     "metadata": {},
     "output_type": "execute_result"
    }
   ],
   "source": [
    "gestion_bdd = GestionBDD('/home/utilisateur/Documents/dev ia/Trivial_IA/questions.db')\n",
    "\n",
    "test_joueur = Player()\n",
    "test_joueur.set_name()\n",
    "test_joueur.poser_question(gestion_bdd)\n",
    "\n",
    "gestion_bdd.questions_utilisees"
   ]
  },
  {
   "cell_type": "code",
   "execution_count": 19,
   "metadata": {},
   "outputs": [
    {
     "name": "stdout",
     "output_type": "stream",
     "text": [
      "Sélectionnez un thème en entrant le numéro correspondant :\n",
      "1. Recherche d'emploi et recrutement\n",
      "2. Ligne de commande Terminal Linux\n",
      "3. Git_Github\n",
      "4. Python\n",
      "5. Actualité IA\n",
      "6. SQL\n",
      "\n",
      "Bienvenue, farid!\n",
      "Thème: Python\n",
      "Question: Quelle est la signification du mot-clé 'self' dans une classe Python?\n",
      "1. Il fait référence à la classe elle-même.\n",
      "2. Il fait référence à l'instance de la classe.\n",
      "3. Il est utilisé pour appeler une méthode de la classe.\n",
      "4. Il est utilisé pour définir une variable de classe.\n",
      "Bonne réponse!\n"
     ]
    },
    {
     "data": {
      "text/plain": [
       "{53, 84}"
      ]
     },
     "execution_count": 19,
     "metadata": {},
     "output_type": "execute_result"
    }
   ],
   "source": [
    "test_joueur = Player()\n",
    "test_joueur.set_name()\n",
    "test_joueur.poser_question(gestion_bdd)\n",
    "\n",
    "gestion_bdd.questions_utilisees"
   ]
  },
  {
   "cell_type": "code",
   "execution_count": 20,
   "metadata": {},
   "outputs": [
    {
     "name": "stdout",
     "output_type": "stream",
     "text": [
      "Sélectionnez un thème en entrant le numéro correspondant :\n",
      "1. Recherche d'emploi et recrutement\n",
      "2. Ligne de commande Terminal Linux\n",
      "3. Git_Github\n",
      "4. Python\n",
      "5. Actualité IA\n",
      "6. SQL\n",
      "\n",
      "Bienvenue, farid!\n",
      "Thème: Actualité IA\n",
      "Question: Quelle est la dernière application de l'IA qui a suscité l'intérêt du grand public ?\n",
      "1. L'utilisation de l'IA pour créer des avatars réalistes pour les jeux vidéo\n",
      "2. L'utilisation de l'IA pour créer des assistants virtuels qui peuvent répondre aux questions et effectuer des tâches pour les utilisateurs\n",
      "3. L'utilisation de l'IA pour détecter les fraudes et les abus financiers\n",
      "4. L'utilisation de l'IA pour traiter les maladies et développer de nouveaux traitements\n",
      "Mauvaise réponse.\n"
     ]
    },
    {
     "data": {
      "text/plain": [
       "{36, 53, 84}"
      ]
     },
     "execution_count": 20,
     "metadata": {},
     "output_type": "execute_result"
    }
   ],
   "source": [
    "test_joueur = Player()\n",
    "test_joueur.set_name()\n",
    "test_joueur.poser_question(gestion_bdd)\n",
    "\n",
    "gestion_bdd.questions_utilisees"
   ]
  }
 ],
 "metadata": {
  "kernelspec": {
   "display_name": "venv",
   "language": "python",
   "name": "python3"
  },
  "language_info": {
   "codemirror_mode": {
    "name": "ipython",
    "version": 3
   },
   "file_extension": ".py",
   "mimetype": "text/x-python",
   "name": "python",
   "nbconvert_exporter": "python",
   "pygments_lexer": "ipython3",
   "version": "3.10.12"
  }
 },
 "nbformat": 4,
 "nbformat_minor": 2
}
